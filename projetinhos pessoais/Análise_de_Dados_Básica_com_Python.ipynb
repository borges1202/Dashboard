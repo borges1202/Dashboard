{
 "cells": [
  {
   "cell_type": "code",
   "execution_count": 67,
   "metadata": {},
   "outputs": [],
   "source": [
    "import pandas as pd\n",
    "import streamlit as st"
   ]
  },
  {
   "cell_type": "code",
   "execution_count": 65,
   "metadata": {},
   "outputs": [],
   "source": [
    "df_dados = pd.read_csv(\"dados.csv\")"
   ]
  },
  {
   "cell_type": "code",
   "execution_count": 21,
   "metadata": {},
   "outputs": [
    {
     "data": {
      "text/html": [
       "<div>\n",
       "<style scoped>\n",
       "    .dataframe tbody tr th:only-of-type {\n",
       "        vertical-align: middle;\n",
       "    }\n",
       "\n",
       "    .dataframe tbody tr th {\n",
       "        vertical-align: top;\n",
       "    }\n",
       "\n",
       "    .dataframe thead th {\n",
       "        text-align: right;\n",
       "    }\n",
       "</style>\n",
       "<table border=\"1\" class=\"dataframe\">\n",
       "  <thead>\n",
       "    <tr style=\"text-align: right;\">\n",
       "      <th></th>\n",
       "      <th>nome</th>\n",
       "      <th>idade</th>\n",
       "      <th>salario</th>\n",
       "      <th>departamento</th>\n",
       "    </tr>\n",
       "  </thead>\n",
       "  <tbody>\n",
       "    <tr>\n",
       "      <th>0</th>\n",
       "      <td>Alice</td>\n",
       "      <td>25</td>\n",
       "      <td>3000</td>\n",
       "      <td>Vendas</td>\n",
       "    </tr>\n",
       "    <tr>\n",
       "      <th>1</th>\n",
       "      <td>Bruno</td>\n",
       "      <td>34</td>\n",
       "      <td>4500</td>\n",
       "      <td>TI</td>\n",
       "    </tr>\n",
       "    <tr>\n",
       "      <th>2</th>\n",
       "      <td>Carlos</td>\n",
       "      <td>29</td>\n",
       "      <td>3200</td>\n",
       "      <td>Vendas</td>\n",
       "    </tr>\n",
       "    <tr>\n",
       "      <th>3</th>\n",
       "      <td>Daniela</td>\n",
       "      <td>42</td>\n",
       "      <td>5200</td>\n",
       "      <td>RH</td>\n",
       "    </tr>\n",
       "    <tr>\n",
       "      <th>4</th>\n",
       "      <td>Eduardo</td>\n",
       "      <td>31</td>\n",
       "      <td>4100</td>\n",
       "      <td>TI</td>\n",
       "    </tr>\n",
       "    <tr>\n",
       "      <th>5</th>\n",
       "      <td>Fernanda</td>\n",
       "      <td>28</td>\n",
       "      <td>3800</td>\n",
       "      <td>RH</td>\n",
       "    </tr>\n",
       "    <tr>\n",
       "      <th>6</th>\n",
       "      <td>Gabriel</td>\n",
       "      <td>35</td>\n",
       "      <td>4700</td>\n",
       "      <td>Vendas</td>\n",
       "    </tr>\n",
       "    <tr>\n",
       "      <th>7</th>\n",
       "      <td>Helena</td>\n",
       "      <td>30</td>\n",
       "      <td>4000</td>\n",
       "      <td>TI</td>\n",
       "    </tr>\n",
       "  </tbody>\n",
       "</table>\n",
       "</div>"
      ],
      "text/plain": [
       "       nome  idade  salario departamento\n",
       "0     Alice     25     3000       Vendas\n",
       "1     Bruno     34     4500           TI\n",
       "2    Carlos     29     3200       Vendas\n",
       "3   Daniela     42     5200           RH\n",
       "4   Eduardo     31     4100           TI\n",
       "5  Fernanda     28     3800           RH\n",
       "6   Gabriel     35     4700       Vendas\n",
       "7    Helena     30     4000           TI"
      ]
     },
     "execution_count": 21,
     "metadata": {},
     "output_type": "execute_result"
    }
   ],
   "source": [
    "df_dados #datafframe"
   ]
  },
  {
   "cell_type": "code",
   "execution_count": 22,
   "metadata": {},
   "outputs": [
    {
     "data": {
      "text/html": [
       "<div>\n",
       "<style scoped>\n",
       "    .dataframe tbody tr th:only-of-type {\n",
       "        vertical-align: middle;\n",
       "    }\n",
       "\n",
       "    .dataframe tbody tr th {\n",
       "        vertical-align: top;\n",
       "    }\n",
       "\n",
       "    .dataframe thead th {\n",
       "        text-align: right;\n",
       "    }\n",
       "</style>\n",
       "<table border=\"1\" class=\"dataframe\">\n",
       "  <thead>\n",
       "    <tr style=\"text-align: right;\">\n",
       "      <th></th>\n",
       "      <th>nome</th>\n",
       "      <th>idade</th>\n",
       "      <th>salario</th>\n",
       "      <th>departamento</th>\n",
       "    </tr>\n",
       "  </thead>\n",
       "  <tbody>\n",
       "    <tr>\n",
       "      <th>0</th>\n",
       "      <td>Alice</td>\n",
       "      <td>25</td>\n",
       "      <td>3000</td>\n",
       "      <td>Vendas</td>\n",
       "    </tr>\n",
       "    <tr>\n",
       "      <th>1</th>\n",
       "      <td>Bruno</td>\n",
       "      <td>34</td>\n",
       "      <td>4500</td>\n",
       "      <td>TI</td>\n",
       "    </tr>\n",
       "    <tr>\n",
       "      <th>2</th>\n",
       "      <td>Carlos</td>\n",
       "      <td>29</td>\n",
       "      <td>3200</td>\n",
       "      <td>Vendas</td>\n",
       "    </tr>\n",
       "    <tr>\n",
       "      <th>3</th>\n",
       "      <td>Daniela</td>\n",
       "      <td>42</td>\n",
       "      <td>5200</td>\n",
       "      <td>RH</td>\n",
       "    </tr>\n",
       "    <tr>\n",
       "      <th>4</th>\n",
       "      <td>Eduardo</td>\n",
       "      <td>31</td>\n",
       "      <td>4100</td>\n",
       "      <td>TI</td>\n",
       "    </tr>\n",
       "  </tbody>\n",
       "</table>\n",
       "</div>"
      ],
      "text/plain": [
       "      nome  idade  salario departamento\n",
       "0    Alice     25     3000       Vendas\n",
       "1    Bruno     34     4500           TI\n",
       "2   Carlos     29     3200       Vendas\n",
       "3  Daniela     42     5200           RH\n",
       "4  Eduardo     31     4100           TI"
      ]
     },
     "execution_count": 22,
     "metadata": {},
     "output_type": "execute_result"
    }
   ],
   "source": [
    "df_dados.head() #os 5 primeiros"
   ]
  },
  {
   "cell_type": "code",
   "execution_count": 23,
   "metadata": {},
   "outputs": [
    {
     "name": "stdout",
     "output_type": "stream",
     "text": [
      "<class 'pandas.core.frame.DataFrame'>\n",
      "RangeIndex: 8 entries, 0 to 7\n",
      "Data columns (total 4 columns):\n",
      " #   Column        Non-Null Count  Dtype \n",
      "---  ------        --------------  ----- \n",
      " 0   nome          8 non-null      object\n",
      " 1   idade         8 non-null      int64 \n",
      " 2   salario       8 non-null      int64 \n",
      " 3   departamento  8 non-null      object\n",
      "dtypes: int64(2), object(2)\n",
      "memory usage: 388.0+ bytes\n"
     ]
    }
   ],
   "source": [
    "df_dados.info() # informações básicas"
   ]
  },
  {
   "cell_type": "code",
   "execution_count": null,
   "metadata": {},
   "outputs": [
    {
     "name": "stdout",
     "output_type": "stream",
     "text": [
      "36.29\n"
     ]
    }
   ],
   "source": [
    "#média da coluna numérica chamada idade.\n",
    "soma = df_dados [\"idade\"].sum()\n",
    "media = soma/7\n",
    "media_idade = (f'{media:.2f}')\n",
    "print (media_idade)"
   ]
  },
  {
   "cell_type": "code",
   "execution_count": 25,
   "metadata": {},
   "outputs": [],
   "source": [
    "#valor mínimo e máximo da coluna chamada salario.\n",
    "min_salario = df_dados [\"salario\"].min()\n",
    "max_salario = df_dados [\"salario\"].max()\n"
   ]
  },
  {
   "cell_type": "code",
   "execution_count": 26,
   "metadata": {},
   "outputs": [
    {
     "name": "stdout",
     "output_type": "stream",
     "text": [
      "['Vendas' 'TI' 'RH']\n"
     ]
    }
   ],
   "source": [
    "#todos os valores únicos de uma coluna chamada departamento.\n",
    "valor_unico = df_dados[\"departamento\"].unique()\n",
    "print (valor_unico)"
   ]
  },
  {
   "cell_type": "code",
   "execution_count": 27,
   "metadata": {},
   "outputs": [],
   "source": [
    "#idade é maior que 30.\n",
    "maior_30 =df_dados [df_dados[\"idade\"]> 30]"
   ]
  },
  {
   "cell_type": "code",
   "execution_count": 28,
   "metadata": {},
   "outputs": [],
   "source": [
    "#filtroS\n",
    "filtro_vendas = df_dados [\"departamento\"] == \"Vendas\"\n",
    "filtro_rh = df_dados [\"departamento\"] == \"RH\"\n",
    "filtro_ti = df_dados [\"departamento\"] == \"TI\""
   ]
  },
  {
   "cell_type": "code",
   "execution_count": 60,
   "metadata": {},
   "outputs": [
    {
     "name": "stdout",
     "output_type": "stream",
     "text": [
      "      nome  salario\n",
      "0    Alice     3000\n",
      "2   Carlos     3200\n",
      "6  Gabriel     4700\n"
     ]
    }
   ],
   "source": [
    "#Selecionar as colunas nome e salario de todos os funcionários do departamento Vendas.\n",
    "nome_salario = df_dados.loc[filtro_vendas ,[\"nome\", \"salario\"]]\n",
    "print (nome_salario) "
   ]
  },
  {
   "cell_type": "code",
   "execution_count": 61,
   "metadata": {},
   "outputs": [
    {
     "data": {
      "text/html": [
       "<div>\n",
       "<style scoped>\n",
       "    .dataframe tbody tr th:only-of-type {\n",
       "        vertical-align: middle;\n",
       "    }\n",
       "\n",
       "    .dataframe tbody tr th {\n",
       "        vertical-align: top;\n",
       "    }\n",
       "\n",
       "    .dataframe thead th {\n",
       "        text-align: right;\n",
       "    }\n",
       "</style>\n",
       "<table border=\"1\" class=\"dataframe\">\n",
       "  <thead>\n",
       "    <tr style=\"text-align: right;\">\n",
       "      <th></th>\n",
       "      <th>nome</th>\n",
       "      <th>idade</th>\n",
       "      <th>salario</th>\n",
       "      <th>departamento</th>\n",
       "      <th>bonus</th>\n",
       "      <th>salario total</th>\n",
       "    </tr>\n",
       "  </thead>\n",
       "  <tbody>\n",
       "    <tr>\n",
       "      <th>0</th>\n",
       "      <td>Alice</td>\n",
       "      <td>25</td>\n",
       "      <td>3000</td>\n",
       "      <td>Vendas</td>\n",
       "      <td>300.0</td>\n",
       "      <td>3300.0</td>\n",
       "    </tr>\n",
       "    <tr>\n",
       "      <th>1</th>\n",
       "      <td>Bruno</td>\n",
       "      <td>34</td>\n",
       "      <td>4500</td>\n",
       "      <td>TI</td>\n",
       "      <td>450.0</td>\n",
       "      <td>4950.0</td>\n",
       "    </tr>\n",
       "    <tr>\n",
       "      <th>2</th>\n",
       "      <td>Carlos</td>\n",
       "      <td>29</td>\n",
       "      <td>3200</td>\n",
       "      <td>Vendas</td>\n",
       "      <td>320.0</td>\n",
       "      <td>3520.0</td>\n",
       "    </tr>\n",
       "    <tr>\n",
       "      <th>3</th>\n",
       "      <td>Daniela</td>\n",
       "      <td>42</td>\n",
       "      <td>5200</td>\n",
       "      <td>RH</td>\n",
       "      <td>520.0</td>\n",
       "      <td>5720.0</td>\n",
       "    </tr>\n",
       "    <tr>\n",
       "      <th>4</th>\n",
       "      <td>Eduardo</td>\n",
       "      <td>31</td>\n",
       "      <td>4100</td>\n",
       "      <td>TI</td>\n",
       "      <td>410.0</td>\n",
       "      <td>4510.0</td>\n",
       "    </tr>\n",
       "    <tr>\n",
       "      <th>5</th>\n",
       "      <td>Fernanda</td>\n",
       "      <td>28</td>\n",
       "      <td>3800</td>\n",
       "      <td>RH</td>\n",
       "      <td>380.0</td>\n",
       "      <td>4180.0</td>\n",
       "    </tr>\n",
       "    <tr>\n",
       "      <th>6</th>\n",
       "      <td>Gabriel</td>\n",
       "      <td>35</td>\n",
       "      <td>4700</td>\n",
       "      <td>Vendas</td>\n",
       "      <td>470.0</td>\n",
       "      <td>5170.0</td>\n",
       "    </tr>\n",
       "    <tr>\n",
       "      <th>7</th>\n",
       "      <td>Helena</td>\n",
       "      <td>30</td>\n",
       "      <td>4000</td>\n",
       "      <td>TI</td>\n",
       "      <td>400.0</td>\n",
       "      <td>4400.0</td>\n",
       "    </tr>\n",
       "  </tbody>\n",
       "</table>\n",
       "</div>"
      ],
      "text/plain": [
       "       nome  idade  salario departamento  bonus  salario total\n",
       "0     Alice     25     3000       Vendas  300.0         3300.0\n",
       "1     Bruno     34     4500           TI  450.0         4950.0\n",
       "2    Carlos     29     3200       Vendas  320.0         3520.0\n",
       "3   Daniela     42     5200           RH  520.0         5720.0\n",
       "4   Eduardo     31     4100           TI  410.0         4510.0\n",
       "5  Fernanda     28     3800           RH  380.0         4180.0\n",
       "6   Gabriel     35     4700       Vendas  470.0         5170.0\n",
       "7    Helena     30     4000           TI  400.0         4400.0"
      ]
     },
     "execution_count": 61,
     "metadata": {},
     "output_type": "execute_result"
    }
   ],
   "source": [
    "#Crie uma nova coluna chamada bonus que é 10% do valor da coluna salario, Adicione uma coluna chamada salario_total que soma salario e bonus.\n",
    "df_dados ['bonus'] = df_dados ['salario']*0.1\n",
    "df_dados [\"salario total\"] = df_dados [\"bonus\"] + df_dados [\"salario\"]\n",
    "df_dados"
   ]
  },
  {
   "cell_type": "code",
   "execution_count": 31,
   "metadata": {},
   "outputs": [],
   "source": [
    "#calculo da soma de cada departamento\n",
    "soma_vendas = df_dados.loc[filtro_vendas ,[\"salario total\"]].sum()\n",
    "soma_rh =  df_dados.loc[filtro_rh, [\"salario total\"]].sum()\n",
    "soma_ti = df_dados.loc[filtro_ti, [\"salario total\"]].sum()\n"
   ]
  },
  {
   "cell_type": "code",
   "execution_count": 32,
   "metadata": {},
   "outputs": [],
   "source": [
    "#media de cada departamento\n",
    "media_vendas = soma_vendas / 3\n",
    "media_rh = soma_rh / 2\n",
    "media_ti = soma_ti / 3"
   ]
  },
  {
   "cell_type": "code",
   "execution_count": 33,
   "metadata": {},
   "outputs": [],
   "source": [
    "#Conte o número de funcionários em cada departamento.\n",
    "contagem_departamento = df_dados[\"departamento\"].value_counts()"
   ]
  },
  {
   "cell_type": "code",
   "execution_count": 34,
   "metadata": {},
   "outputs": [],
   "source": [
    "import matplotlib.pyplot as plt"
   ]
  },
  {
   "cell_type": "code",
   "execution_count": 35,
   "metadata": {},
   "outputs": [
    {
     "data": {
      "image/png": "[encoded data removed]",
      "text/plain": [
       "<Figure size 640x480 with 1 Axes>"
      ]
     },
     "metadata": {},
     "output_type": "display_data"
    }
   ],
   "source": [
    "#grafico de vendas\n",
    "plt.plot([\"vendas\", \"ti\", \"rh\"], [media_vendas, media_ti, media_rh])\n",
    "plt.title('media de salario por departamento')\n",
    "plt.xlabel('')\n",
    "plt.ylabel('')\n",
    "plt.show()"
   ]
  },
  {
   "cell_type": "code",
   "execution_count": 36,
   "metadata": {},
   "outputs": [
    {
     "name": "stdout",
     "output_type": "stream",
     "text": [
      "0    25\n",
      "1    34\n",
      "2    29\n",
      "3    42\n",
      "4    31\n",
      "5    28\n",
      "6    35\n",
      "7    30\n",
      "Name: idade, dtype: int64\n"
     ]
    }
   ],
   "source": [
    "idade = df_dados ['idade']\n",
    "print (idade)"
   ]
  },
  {
   "cell_type": "code",
   "execution_count": 37,
   "metadata": {},
   "outputs": [
    {
     "data": {
      "text/plain": [
       "(array([1., 1., 2., 1., 0., 2., 0., 0., 0., 1.]),\n",
       " array([25. , 26.7, 28.4, 30.1, 31.8, 33.5, 35.2, 36.9, 38.6, 40.3, 42. ]),\n",
       " <BarContainer object of 10 artists>)"
      ]
     },
     "execution_count": 37,
     "metadata": {},
     "output_type": "execute_result"
    },
    {
     "data": {
      "image/png": "[encoded data removed]",
      "text/plain": [
       "<Figure size 640x480 with 1 Axes>"
      ]
     },
     "metadata": {},
     "output_type": "display_data"
    }
   ],
   "source": [
    "#histograma de idade\n",
    "plt.hist(idade)"
   ]
  },
  {
   "cell_type": "code",
   "execution_count": 66,
   "metadata": {},
   "outputs": [
    {
     "data": {
      "text/html": [
       "<div>\n",
       "<style scoped>\n",
       "    .dataframe tbody tr th:only-of-type {\n",
       "        vertical-align: middle;\n",
       "    }\n",
       "\n",
       "    .dataframe tbody tr th {\n",
       "        vertical-align: top;\n",
       "    }\n",
       "\n",
       "    .dataframe thead th {\n",
       "        text-align: right;\n",
       "    }\n",
       "</style>\n",
       "<table border=\"1\" class=\"dataframe\">\n",
       "  <thead>\n",
       "    <tr style=\"text-align: right;\">\n",
       "      <th></th>\n",
       "      <th>media de idade</th>\n",
       "      <th>valor minimo</th>\n",
       "      <th>valor maximo</th>\n",
       "      <th>departamento unico</th>\n",
       "      <th>media vendas</th>\n",
       "      <th>media_rh</th>\n",
       "      <th>media_ti</th>\n",
       "      <th>Contagem Funcionários Vendas</th>\n",
       "      <th>Contagem Funcionários RH</th>\n",
       "      <th>Contagem Funcionários TI</th>\n",
       "    </tr>\n",
       "  </thead>\n",
       "  <tbody>\n",
       "    <tr>\n",
       "      <th>0</th>\n",
       "      <td>36.29</td>\n",
       "      <td>3000</td>\n",
       "      <td>5200</td>\n",
       "      <td>Vendas, TI, RH</td>\n",
       "      <td>[[3996.6666666666665]]</td>\n",
       "      <td>[[4950.0]]</td>\n",
       "      <td>[[4620.0]]</td>\n",
       "      <td>3</td>\n",
       "      <td>2</td>\n",
       "      <td>3</td>\n",
       "    </tr>\n",
       "  </tbody>\n",
       "</table>\n",
       "</div>"
      ],
      "text/plain": [
       "  media de idade  valor minimo  valor maximo departamento unico  \\\n",
       "0          36.29          3000          5200     Vendas, TI, RH   \n",
       "\n",
       "             media vendas    media_rh    media_ti  \\\n",
       "0  [[3996.6666666666665]]  [[4950.0]]  [[4620.0]]   \n",
       "\n",
       "   Contagem Funcionários Vendas  Contagem Funcionários RH  \\\n",
       "0                             3                         2   \n",
       "\n",
       "   Contagem Funcionários TI  \n",
       "0                         3  "
      ]
     },
     "execution_count": 66,
     "metadata": {},
     "output_type": "execute_result"
    }
   ],
   "source": [
    "df_dados_at = {\n",
    "  \"media de idade\": [media_idade],\n",
    "  \"valor minimo\":[min_salario],\n",
    "  \"valor maximo\":[max_salario],\n",
    "  \"departamento unico\": [\", \".join(valor_unico)],  \n",
    "  \"media vendas\":[[media_vendas]],\n",
    "  \"media_rh\":[[media_rh]],\n",
    "  \"media_ti\":[[media_ti]],\n",
    "  \"Contagem Funcionários Vendas\": [contagem_departamento.get(\"Vendas\", 0)],\n",
    "  \"Contagem Funcionários RH\": [contagem_departamento.get(\"RH\", 0)],\n",
    "  \"Contagem Funcionários TI\": [contagem_departamento.get(\"TI\", 0)],\n",
    "}\n",
    "df_resumo = pd.DataFrame(df_dados_at)\n",
    "df_resumo"
   ]
  },
  {
   "cell_type": "code",
   "execution_count": null,
   "metadata": {},
   "outputs": [],
   "source": []
  }
 ],
 "metadata": {
  "kernelspec": {
   "display_name": "Python 3",
   "language": "python",
   "name": "python3"
  },
  "language_info": {
   "codemirror_mode": {
    "name": "ipython",
    "version": 3
   },
   "file_extension": ".py",
   "mimetype": "text/x-python",
   "name": "python",
   "nbconvert_exporter": "python",
   "pygments_lexer": "ipython3",
   "version": "3.13.2"
  }
 },
 "nbformat": 4,
 "nbformat_minor": 2
}
